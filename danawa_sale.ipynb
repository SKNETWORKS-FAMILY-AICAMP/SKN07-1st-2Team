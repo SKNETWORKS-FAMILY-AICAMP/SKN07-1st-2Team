{
 "cells": [
  {
   "cell_type": "markdown",
   "id": "c9783b71-bffd-42e8-8778-52fa3013b03c",
   "metadata": {},
   "source": [
    "# 2024.11.13.수 day13"
   ]
  },
  {
   "cell_type": "markdown",
   "id": "14ca4335-5b3f-4e82-af89-73d375a70ea5",
   "metadata": {},
   "source": [
    "## 1. 다나와 크롤링"
   ]
  },
  {
   "cell_type": "markdown",
   "id": "48082df8-d718-463f-b759-1a904648e7db",
   "metadata": {},
   "source": [
    "### 셀레늄, 크롬드라이버 사용"
   ]
  },
  {
   "cell_type": "code",
   "execution_count": 117,
   "id": "4a10e902-0d7d-4ba5-96e2-39c4858494d4",
   "metadata": {},
   "outputs": [],
   "source": [
    "from selenium import webdriver\n",
    "from webdriver_manager.chrome import ChromeDriverManager\n",
    "from selenium.webdriver.chrome.service import Service\n",
    "# from selenium.webdriver.common.by import By\n",
    "# from bs4 import BeautifulSoup as BS\n",
    "import requests\n",
    "import time\n",
    "from bs4 import BeautifulSoup as BS\n",
    "\n",
    "options = webdriver.ChromeOptions()\n",
    "options.add_argument(\"--headless\")\n",
    "driver = webdriver.Chrome(service=Service(ChromeDriverManager(driver_version=\"131.0.6778.69\").install()),options=options)\n",
    "\n",
    "url = \"https://auto.danawa.com/auto/?Work=record&Tab=Model&Month=2024-09-00&MonthTo=\"\n",
    "driver.get(url)\n",
    "\n",
    "bs = BS(driver.page_source)"
   ]
  },
  {
   "cell_type": "code",
   "execution_count": 123,
   "id": "c18bf8e6-ff60-4803-9133-3de48f472abf",
   "metadata": {
    "scrolled": true
   },
   "outputs": [],
   "source": [
    "# bs"
   ]
  },
  {
   "cell_type": "markdown",
   "id": "af095e19-7848-4c1d-b146-a8a0653d06c2",
   "metadata": {},
   "source": [
    "### 2022.01 ~ 2024.10 판매실적 데이터 크롤링"
   ]
  },
  {
   "cell_type": "code",
   "execution_count": 176,
   "id": "5408d1bd-9830-43c4-830f-b48c2a08dca6",
   "metadata": {},
   "outputs": [
    {
     "name": "stderr",
     "output_type": "stream",
     "text": [
      "100%|█████████████████████████████████████| 12/12 [00:51<00:00,  4.27s/it]\n",
      "100%|█████████████████████████████████████| 12/12 [00:54<00:00,  4.58s/it]\n",
      " 83%|██████████████████████████████▊      | 10/12 [00:49<00:09,  4.91s/it]\n"
     ]
    }
   ],
   "source": [
    "from selenium import webdriver\n",
    "from webdriver_manager.chrome import ChromeDriverManager\n",
    "from selenium.webdriver.chrome.service import Service\n",
    "import time\n",
    "from bs4 import BeautifulSoup as BS\n",
    "import pandas as pd\n",
    "from tqdm import tqdm\n",
    "\n",
    "options = webdriver.ChromeOptions()\n",
    "options.add_argument(\"--headless\")\n",
    "driver = webdriver.Chrome(service=Service(ChromeDriverManager(driver_version=\"131.0.6778.69\").install()),options=options)\n",
    "\n",
    "url_base = \"https://auto.danawa.com/auto/?Work=record&Tab=Model&Month={}-{}-00&MonthTo=\"\n",
    "\n",
    "li_sale = list()\n",
    "\n",
    "# 연도, 월 설정하는 반복문\n",
    "for year in ['2022', '2023', '2024']:\n",
    "    for month in tqdm(['{:02}'.format(x) for x in range(1,13)]):\n",
    "        url = url_base.format(year, month)\n",
    "        driver.get(url)\n",
    "        time.sleep(3)\n",
    "        bs = BS(driver.page_source)\n",
    "        \n",
    "        if bs.find('tbody') == None:\n",
    "            break\n",
    "        \n",
    "        li_tr = bs.find('tbody').findAll('tr')\n",
    "        li_tr_new = [tr for tr in li_tr if not tr.get('class')]\n",
    "        \n",
    "        for t in li_tr_new:\n",
    "            rank = t.findAll('td')[1].text\n",
    "            car_name = t.findAll('td')[3].text.strip()\n",
    "            val_sale = t.findAll('td')[4].text.split('그')[0]\n",
    "            per_share = t.findAll('td')[5].text\n",
    "            cd_brand = t.find('input')['brand']\n",
    "            cd_model = t.find('input')['value'].split('_')[1]\n",
    "            li_sale.append([year, month, rank, car_name, cd_model, cd_brand, val_sale, per_share])\n",
    "\n",
    "df_sale = pd.DataFrame(li_sale, columns= ['year','month','rank','car_name','cd_model','cd_brand','val_sale','per_share'])"
   ]
  },
  {
   "cell_type": "code",
   "execution_count": 1,
   "id": "57276591-4008-4402-8c04-5c115ae99cba",
   "metadata": {},
   "outputs": [],
   "source": [
    "# df_sale.info()"
   ]
  },
  {
   "cell_type": "code",
   "execution_count": 2,
   "id": "450ea756-6c5a-478e-b655-60fb0a24ab38",
   "metadata": {},
   "outputs": [],
   "source": [
    "# df_sale"
   ]
  },
  {
   "cell_type": "markdown",
   "id": "6f5dec5f-dbb9-4034-91bc-11b3fb4780d0",
   "metadata": {},
   "source": [
    "### 데이터 전처리"
   ]
  },
  {
   "cell_type": "code",
   "execution_count": 219,
   "id": "090e5a24-b265-4141-8f82-b38e70938503",
   "metadata": {},
   "outputs": [
    {
     "data": {
      "text/html": [
       "<div>\n",
       "<style scoped>\n",
       "    .dataframe tbody tr th:only-of-type {\n",
       "        vertical-align: middle;\n",
       "    }\n",
       "\n",
       "    .dataframe tbody tr th {\n",
       "        vertical-align: top;\n",
       "    }\n",
       "\n",
       "    .dataframe thead th {\n",
       "        text-align: right;\n",
       "    }\n",
       "</style>\n",
       "<table border=\"1\" class=\"dataframe\">\n",
       "  <thead>\n",
       "    <tr style=\"text-align: right;\">\n",
       "      <th></th>\n",
       "      <th>year</th>\n",
       "      <th>month</th>\n",
       "      <th>rank</th>\n",
       "      <th>car_name</th>\n",
       "      <th>cd_model</th>\n",
       "      <th>cd_brand</th>\n",
       "      <th>val_sale</th>\n",
       "      <th>per_share</th>\n",
       "      <th>total_sale</th>\n",
       "      <th>per_share2</th>\n",
       "    </tr>\n",
       "  </thead>\n",
       "  <tbody>\n",
       "    <tr>\n",
       "      <th>0</th>\n",
       "      <td>2022</td>\n",
       "      <td>01</td>\n",
       "      <td>1</td>\n",
       "      <td>G80</td>\n",
       "      <td>3656</td>\n",
       "      <td>304</td>\n",
       "      <td>5501</td>\n",
       "      <td>0.050</td>\n",
       "      <td>110802</td>\n",
       "      <td>0.049647</td>\n",
       "    </tr>\n",
       "    <tr>\n",
       "      <th>1</th>\n",
       "      <td>2022</td>\n",
       "      <td>01</td>\n",
       "      <td>2</td>\n",
       "      <td>포터2</td>\n",
       "      <td>1901</td>\n",
       "      <td>303</td>\n",
       "      <td>5443</td>\n",
       "      <td>0.049</td>\n",
       "      <td>110802</td>\n",
       "      <td>0.049124</td>\n",
       "    </tr>\n",
       "    <tr>\n",
       "      <th>2</th>\n",
       "      <td>2022</td>\n",
       "      <td>01</td>\n",
       "      <td>3</td>\n",
       "      <td>아반떼</td>\n",
       "      <td>3821</td>\n",
       "      <td>303</td>\n",
       "      <td>5099</td>\n",
       "      <td>0.046</td>\n",
       "      <td>110802</td>\n",
       "      <td>0.046019</td>\n",
       "    </tr>\n",
       "    <tr>\n",
       "      <th>3</th>\n",
       "      <td>2022</td>\n",
       "      <td>01</td>\n",
       "      <td>4</td>\n",
       "      <td>쏘렌토</td>\n",
       "      <td>3837</td>\n",
       "      <td>307</td>\n",
       "      <td>5066</td>\n",
       "      <td>0.046</td>\n",
       "      <td>110802</td>\n",
       "      <td>0.045721</td>\n",
       "    </tr>\n",
       "    <tr>\n",
       "      <th>4</th>\n",
       "      <td>2022</td>\n",
       "      <td>01</td>\n",
       "      <td>5</td>\n",
       "      <td>봉고 3</td>\n",
       "      <td>3772</td>\n",
       "      <td>307</td>\n",
       "      <td>4643</td>\n",
       "      <td>0.042</td>\n",
       "      <td>110802</td>\n",
       "      <td>0.041904</td>\n",
       "    </tr>\n",
       "    <tr>\n",
       "      <th>...</th>\n",
       "      <td>...</td>\n",
       "      <td>...</td>\n",
       "      <td>...</td>\n",
       "      <td>...</td>\n",
       "      <td>...</td>\n",
       "      <td>...</td>\n",
       "      <td>...</td>\n",
       "      <td>...</td>\n",
       "      <td>...</td>\n",
       "      <td>...</td>\n",
       "    </tr>\n",
       "    <tr>\n",
       "      <th>7807</th>\n",
       "      <td>2024</td>\n",
       "      <td>10</td>\n",
       "      <td>233</td>\n",
       "      <td>A-Class</td>\n",
       "      <td>3691</td>\n",
       "      <td>349</td>\n",
       "      <td>1</td>\n",
       "      <td>0.000</td>\n",
       "      <td>145281</td>\n",
       "      <td>0.000007</td>\n",
       "    </tr>\n",
       "    <tr>\n",
       "      <th>7808</th>\n",
       "      <td>2024</td>\n",
       "      <td>10</td>\n",
       "      <td>234</td>\n",
       "      <td>Q8 e-tron</td>\n",
       "      <td>4436</td>\n",
       "      <td>371</td>\n",
       "      <td>1</td>\n",
       "      <td>0.000</td>\n",
       "      <td>145281</td>\n",
       "      <td>0.000007</td>\n",
       "    </tr>\n",
       "    <tr>\n",
       "      <th>7809</th>\n",
       "      <td>2024</td>\n",
       "      <td>10</td>\n",
       "      <td>235</td>\n",
       "      <td>GLE-Class</td>\n",
       "      <td>3693</td>\n",
       "      <td>349</td>\n",
       "      <td>1</td>\n",
       "      <td>0.000</td>\n",
       "      <td>145281</td>\n",
       "      <td>0.000007</td>\n",
       "    </tr>\n",
       "    <tr>\n",
       "      <th>7810</th>\n",
       "      <td>2024</td>\n",
       "      <td>10</td>\n",
       "      <td>236</td>\n",
       "      <td>CT5</td>\n",
       "      <td>3709</td>\n",
       "      <td>546</td>\n",
       "      <td>1</td>\n",
       "      <td>0.000</td>\n",
       "      <td>145281</td>\n",
       "      <td>0.000007</td>\n",
       "    </tr>\n",
       "    <tr>\n",
       "      <th>7811</th>\n",
       "      <td>2024</td>\n",
       "      <td>10</td>\n",
       "      <td>237</td>\n",
       "      <td>Expedition</td>\n",
       "      <td>4360</td>\n",
       "      <td>569</td>\n",
       "      <td>1</td>\n",
       "      <td>0.000</td>\n",
       "      <td>145281</td>\n",
       "      <td>0.000007</td>\n",
       "    </tr>\n",
       "  </tbody>\n",
       "</table>\n",
       "<p>7812 rows × 10 columns</p>\n",
       "</div>"
      ],
      "text/plain": [
       "      year month rank    car_name cd_model cd_brand  val_sale  per_share  \\\n",
       "0     2022    01    1         G80     3656      304      5501      0.050   \n",
       "1     2022    01    2         포터2     1901      303      5443      0.049   \n",
       "2     2022    01    3         아반떼     3821      303      5099      0.046   \n",
       "3     2022    01    4         쏘렌토     3837      307      5066      0.046   \n",
       "4     2022    01    5        봉고 3     3772      307      4643      0.042   \n",
       "...    ...   ...  ...         ...      ...      ...       ...        ...   \n",
       "7807  2024    10  233     A-Class     3691      349         1      0.000   \n",
       "7808  2024    10  234   Q8 e-tron     4436      371         1      0.000   \n",
       "7809  2024    10  235   GLE-Class     3693      349         1      0.000   \n",
       "7810  2024    10  236         CT5     3709      546         1      0.000   \n",
       "7811  2024    10  237  Expedition     4360      569         1      0.000   \n",
       "\n",
       "      total_sale  per_share2  \n",
       "0         110802    0.049647  \n",
       "1         110802    0.049124  \n",
       "2         110802    0.046019  \n",
       "3         110802    0.045721  \n",
       "4         110802    0.041904  \n",
       "...          ...         ...  \n",
       "7807      145281    0.000007  \n",
       "7808      145281    0.000007  \n",
       "7809      145281    0.000007  \n",
       "7810      145281    0.000007  \n",
       "7811      145281    0.000007  \n",
       "\n",
       "[7812 rows x 10 columns]"
      ]
     },
     "execution_count": 219,
     "metadata": {},
     "output_type": "execute_result"
    }
   ],
   "source": [
    "# 컬럼 타입 변경\n",
    "df_sale_p = df_sale.copy()\n",
    "df_sale_p['val_sale'] = df_sale_p['val_sale'].apply(lambda x: int(x.replace(',','')))\n",
    "# df_sale_p['per_share'] = df_sale_p['per_share'].apply(lambda x: float(x.replace('%',''))/100)\n",
    "\n",
    "# 월별 전체 판매량\n",
    "df_group = df_sale_p.groupby(['year','month'])['val_sale'].sum().reset_index()\n",
    "df_group = df_group.rename(columns={'val_sale':'total_sale'})\n",
    "\n",
    "# merge 병합\n",
    "df_sale_p2 = pd.merge(df_sale_p, df_group, how='left', on=['year','month'])\n",
    "df_sale_p2['per_share2'] = df_sale_p2['val_sale'] / df_sale_p2['total_sale']\n",
    "df_sale_p2"
   ]
  },
  {
   "cell_type": "code",
   "execution_count": 3,
   "id": "1739aa9d-d6f9-435b-b128-3acabc321c1b",
   "metadata": {},
   "outputs": [],
   "source": [
    "# df_sale_p2.info()"
   ]
  },
  {
   "cell_type": "markdown",
   "id": "246519bc-4973-4e2d-a2cc-23afa4234b39",
   "metadata": {},
   "source": [
    "### DB에 테이블로 저장"
   ]
  },
  {
   "cell_type": "code",
   "execution_count": 230,
   "id": "50dbdd8f-276e-4f4b-802b-5af1a7a02293",
   "metadata": {},
   "outputs": [],
   "source": [
    "# DB 연결\n",
    "import sqlalchemy\n",
    "from urllib import parse\n",
    "user='team2'\n",
    "password='Encore_team2@'\n",
    "password = parse.quote_plus(password)\n",
    "host='192.168.0.95'\n",
    "#host='222.112.208.67'\n",
    "port=3306\n",
    "database='team2'\n",
    "engine=sqlalchemy.create_engine(f'mysql://{user}:{password}@{host}:{port}/{database}')"
   ]
  },
  {
   "cell_type": "code",
   "execution_count": 231,
   "id": "095fbf4e-4e5a-4333-8a87-b7faab9518a4",
   "metadata": {},
   "outputs": [
    {
     "data": {
      "text/plain": [
       "7812"
      ]
     },
     "execution_count": 231,
     "metadata": {},
     "output_type": "execute_result"
    }
   ],
   "source": [
    "# df_sale_p2.to_sql('danawa_sale', if_exists='replace', con=engine, index=False)"
   ]
  },
  {
   "cell_type": "code",
   "execution_count": null,
   "id": "667dd5b3-9601-4e0a-bb21-25a21a92c8cb",
   "metadata": {},
   "outputs": [],
   "source": []
  }
 ],
 "metadata": {
  "kernelspec": {
   "display_name": "Python 3 (ipykernel)",
   "language": "python",
   "name": "python3"
  },
  "language_info": {
   "codemirror_mode": {
    "name": "ipython",
    "version": 3
   },
   "file_extension": ".py",
   "mimetype": "text/x-python",
   "name": "python",
   "nbconvert_exporter": "python",
   "pygments_lexer": "ipython3",
   "version": "3.10.15"
  }
 },
 "nbformat": 4,
 "nbformat_minor": 5
}
