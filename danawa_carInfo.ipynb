{
 "cells": [
  {
   "cell_type": "code",
   "execution_count": 68,
   "id": "02951732-8566-4154-96d6-0a79395dae9c",
   "metadata": {},
   "outputs": [],
   "source": [
    "from selenium import webdriver\n",
    "from webdriver_manager.chrome import ChromeDriverManager\n",
    "from selenium.webdriver.chrome.service import Service\n",
    "from bs4 import BeautifulSoup as BS\n",
    "options = webdriver.ChromeOptions()\n",
    "options.add_argument(\"--headless\")\n",
    "driver = webdriver.Chrome(service=Service(ChromeDriverManager(driver_version=\"131.0.6778.70\").install()),options=options)"
   ]
  },
  {
   "cell_type": "markdown",
   "id": "894fc3cc-c180-4af7-868e-59e30d2bd451",
   "metadata": {},
   "source": [
    "## 시세, 스펙 조회"
   ]
  },
  {
   "cell_type": "code",
   "execution_count": 69,
   "id": "25e8fe9d-9c5c-4a52-8b9d-684210b07db6",
   "metadata": {},
   "outputs": [],
   "source": [
    "url = \"https://auto.danawa.com/auto/?Work=model&Model=4499\"\n",
    "\n",
    "driver.get(url)\n",
    "\n",
    "bs = BS(driver.page_source)"
   ]
  },
  {
   "cell_type": "code",
   "execution_count": 66,
   "id": "90c0aff7-bc39-41f0-b449-0f3cdb18f502",
   "metadata": {},
   "outputs": [],
   "source": [
    "# 시세\n",
    "import re\n",
    "min_price = []\n",
    "max_price = []\n",
    "\n",
    "price = bs.find('div', 'newcar').find('div', 'price_title').text.split(\"~\")\n",
    "\n",
    "re_price = [re.sub(r'[^0-9]', '', x) for x in price]\n",
    "\n",
    "if len(re_price) < 2:\n",
    "    min_price = re_price\n",
    "    \n",
    "else:\n",
    "    min_price = re_price[0]\n",
    "    max_price = re_price[1]"
   ]
  },
  {
   "cell_type": "code",
   "execution_count": 59,
   "id": "432bd7f4-28cb-42d8-b883-1a8de097015f",
   "metadata": {},
   "outputs": [],
   "source": [
    "# 스펙\n",
    "spec = bs.find('div', 'spec').find_all('span')"
   ]
  },
  {
   "cell_type": "code",
   "execution_count": 154,
   "id": "3550f147-ecdd-43ea-bcde-0a69d33464d0",
   "metadata": {},
   "outputs": [],
   "source": [
    "spec_list = [ x.text for x in spec ]"
   ]
  },
  {
   "cell_type": "code",
   "execution_count": 102,
   "id": "91a8e88d-703d-43c7-b5be-86fc2b160745",
   "metadata": {
    "scrolled": true
   },
   "outputs": [],
   "source": [
    "# 현대차 모델코드\n",
    "model_code = [ x['code'] for x in bs2.find('dl', 'modelBox').find_all('li') ]"
   ]
  },
  {
   "cell_type": "code",
   "execution_count": 103,
   "id": "349b2374-5c9c-4028-a278-8ca49fb1ee49",
   "metadata": {
    "scrolled": true
   },
   "outputs": [
    {
     "data": {
      "text/plain": [
       "['4086',\n",
       " '4671',\n",
       " '4653',\n",
       " '4455',\n",
       " '4564',\n",
       " '4466',\n",
       " '4087',\n",
       " '4188',\n",
       " '3654',\n",
       " '4376',\n",
       " '4361',\n",
       " '4510',\n",
       " '4592',\n",
       " '4624',\n",
       " '4558',\n",
       " '3564',\n",
       " '4677',\n",
       " '4435',\n",
       " '4190',\n",
       " '4088',\n",
       " '4014',\n",
       " '3297',\n",
       " '3502',\n",
       " '4400',\n",
       " '4052',\n",
       " '1901',\n",
       " '4399',\n",
       " '4626',\n",
       " '3500',\n",
       " '4003']"
      ]
     },
     "execution_count": 103,
     "metadata": {},
     "output_type": "execute_result"
    }
   ],
   "source": [
    "model_code"
   ]
  },
  {
   "cell_type": "markdown",
   "id": "23caea34-8ea1-4cf8-b9c7-f5e00d3df0ed",
   "metadata": {},
   "source": [
    "## 브랜드 코드"
   ]
  },
  {
   "cell_type": "code",
   "execution_count": 4,
   "id": "008d2a7e-cccf-4843-ae33-4e43556082df",
   "metadata": {},
   "outputs": [],
   "source": [
    "# 브랜드 코드 조회\n",
    "\n",
    "url = \"https://auto.danawa.com/auto/?Work=home\"\n",
    "\n",
    "driver.get(url)\n",
    "\n",
    "from bs4 import BeautifulSoup as BS\n",
    "\n",
    "bs3 = BS(driver.page_source)\n",
    "\n",
    "# 국내 브랜드 리스트\n",
    "brand_list_kr = [ x['href'] for x in bs3.find_all('ul', 'brandList')[0].find_all('a') ]\n",
    "\n",
    "brand_code_kr = [ x.split('=')[-1] for x in brand_list_kr ]"
   ]
  },
  {
   "cell_type": "code",
   "execution_count": 129,
   "id": "adc51de0-f7ec-4925-8b6e-0b03f39b5ceb",
   "metadata": {
    "scrolled": true
   },
   "outputs": [],
   "source": [
    "brand_list_kr = [ x['href'] for x in bs3.find_all('ul', 'brandList')[0].find_all('a') ]"
   ]
  },
  {
   "cell_type": "code",
   "execution_count": 149,
   "id": "e71334f3-dbe4-4bf6-a2d5-d0337fbfb33e",
   "metadata": {},
   "outputs": [],
   "source": [
    "brand_code_kr = [ x.split('=')[-1] for x in brand_list_kr ]"
   ]
  },
  {
   "cell_type": "code",
   "execution_count": 160,
   "id": "d9a74785-a287-4b81-b028-491df6fef6e1",
   "metadata": {
    "scrolled": true
   },
   "outputs": [],
   "source": [
    "# 국내 브랜드 코드 --> 현대, 기아, 제네시스, 쉐보레, 르노 삼성\n",
    "brand_cd_kr = brand_code_kr[ : 5]"
   ]
  },
  {
   "cell_type": "code",
   "execution_count": 162,
   "id": "4cd0fa0d-f7a5-4f62-9765-d1d4a439062c",
   "metadata": {},
   "outputs": [
    {
     "data": {
      "text/plain": [
       "['303', '307', '304', '312', '321']"
      ]
     },
     "execution_count": 162,
     "metadata": {},
     "output_type": "execute_result"
    }
   ],
   "source": [
    "brand_cd_kr"
   ]
  },
  {
   "cell_type": "code",
   "execution_count": 5,
   "id": "a797c0ac-ca16-4ef9-ba27-b17a83274462",
   "metadata": {},
   "outputs": [],
   "source": [
    "# 해외 브랜드 리스트\n",
    "brand_list_br = [ x['href'] for x in bs3.find_all('ul', 'brandList')[1].find_all('a') ]\n",
    "\n",
    "brand_code_br = [ x.split('=')[-1] for x in brand_list_br ]\n",
    "\n",
    "# 국내 브랜드 코드 --> 현대, 기아, 제네시스, 쉐보레, 르노 삼성\n",
    "brand_cd_br = brand_code_br[ : 5]"
   ]
  },
  {
   "cell_type": "code",
   "execution_count": 6,
   "id": "df4305d3-ae59-484a-9dd4-435f54465845",
   "metadata": {},
   "outputs": [
    {
     "data": {
      "text/plain": [
       "['362', '349', '371', '458', '459']"
      ]
     },
     "execution_count": 6,
     "metadata": {},
     "output_type": "execute_result"
    }
   ],
   "source": [
    "brand_cd_br"
   ]
  },
  {
   "cell_type": "markdown",
   "id": "18f2bddb-bced-4482-a033-ae59f813dce5",
   "metadata": {},
   "source": [
    "## 모델코드"
   ]
  },
  {
   "cell_type": "code",
   "execution_count": 134,
   "id": "7911ecee-fd75-445f-9847-4a06da2a757d",
   "metadata": {},
   "outputs": [],
   "source": [
    "url = f\"https://auto.danawa.com/auto/?Work=brand&Brand={brand_code_kr[1]}\"\n",
    "\n",
    "driver.get(url)\n",
    "\n",
    "from bs4 import BeautifulSoup as BS\n",
    "\n",
    "brand_home = BS(driver.page_source)\n",
    "\n",
    "# 모델코드\n",
    "brand_model_code = [ x['code'] for x in bs2.find('dl', 'modelBox').find_all('li') ]"
   ]
  },
  {
   "cell_type": "code",
   "execution_count": 135,
   "id": "18f4bcf9-3485-42cb-9ebd-f2b9bcb4d76d",
   "metadata": {
    "scrolled": true
   },
   "outputs": [
    {
     "data": {
      "text/plain": [
       "['4086',\n",
       " '4671',\n",
       " '4653',\n",
       " '4455',\n",
       " '4564',\n",
       " '4466',\n",
       " '4087',\n",
       " '4188',\n",
       " '3654',\n",
       " '4376',\n",
       " '4361',\n",
       " '4510',\n",
       " '4592',\n",
       " '4624',\n",
       " '4558',\n",
       " '3564',\n",
       " '4677',\n",
       " '4435',\n",
       " '4190',\n",
       " '4088',\n",
       " '4014',\n",
       " '3297',\n",
       " '3502',\n",
       " '4400',\n",
       " '4052',\n",
       " '1901',\n",
       " '4399',\n",
       " '4626',\n",
       " '3500',\n",
       " '4003']"
      ]
     },
     "execution_count": 135,
     "metadata": {},
     "output_type": "execute_result"
    }
   ],
   "source": [
    "brand_model_code"
   ]
  },
  {
   "cell_type": "code",
   "execution_count": 7,
   "id": "21941029-6d8e-433f-9020-9e490ea13c7a",
   "metadata": {
    "scrolled": true
   },
   "outputs": [
    {
     "name": "stderr",
     "output_type": "stream",
     "text": [
      "  0%|                                                                                             | 0/5 [00:00<?, ?it/s]"
     ]
    },
    {
     "name": "stdout",
     "output_type": "stream",
     "text": [
      "list index out of range\n",
      "list index out of range\n",
      "list index out of range\n",
      "list index out of range\n",
      "list index out of range\n",
      "list index out of range\n",
      "list index out of range\n",
      "list index out of range\n",
      "list index out of range\n",
      "list index out of range\n",
      "list index out of range\n",
      "list index out of range\n",
      "list index out of range\n",
      "list index out of range\n",
      "list index out of range\n",
      "list index out of range\n",
      "list index out of range\n",
      "list index out of range\n",
      "list index out of range\n",
      "list index out of range\n",
      "list index out of range\n",
      "list index out of range\n",
      "list index out of range\n",
      "list index out of range\n",
      "list index out of range\n",
      "list index out of range\n"
     ]
    },
    {
     "name": "stderr",
     "output_type": "stream",
     "text": [
      " 20%|████████████████▊                                                                   | 1/5 [02:22<09:30, 142.74s/it]"
     ]
    },
    {
     "name": "stdout",
     "output_type": "stream",
     "text": [
      "list index out of range\n",
      "list index out of range\n",
      "list index out of range\n",
      "list index out of range\n",
      "list index out of range\n",
      "list index out of range\n",
      "list index out of range\n",
      "list index out of range\n",
      "list index out of range\n",
      "list index out of range\n",
      "list index out of range\n",
      "list index out of range\n",
      "list index out of range\n",
      "list index out of range\n",
      "list index out of range\n",
      "list index out of range\n",
      "list index out of range\n"
     ]
    },
    {
     "name": "stderr",
     "output_type": "stream",
     "text": [
      " 40%|█████████████████████████████████▌                                                  | 2/5 [03:50<05:31, 110.63s/it]"
     ]
    },
    {
     "name": "stdout",
     "output_type": "stream",
     "text": [
      "list index out of range\n",
      "list index out of range\n",
      "list index out of range\n",
      "list index out of range\n",
      "list index out of range\n",
      "list index out of range\n",
      "list index out of range\n",
      "list index out of range\n"
     ]
    },
    {
     "name": "stderr",
     "output_type": "stream",
     "text": [
      " 60%|███████████████████████████████████████████████████                                  | 3/5 [04:44<02:48, 84.46s/it]"
     ]
    },
    {
     "name": "stdout",
     "output_type": "stream",
     "text": [
      "list index out of range\n",
      "list index out of range\n"
     ]
    },
    {
     "name": "stderr",
     "output_type": "stream",
     "text": [
      " 80%|████████████████████████████████████████████████████████████████████                 | 4/5 [05:02<00:58, 58.27s/it]"
     ]
    },
    {
     "name": "stdout",
     "output_type": "stream",
     "text": [
      "list index out of range\n",
      "list index out of range\n",
      "list index out of range\n",
      "list index out of range\n"
     ]
    },
    {
     "name": "stderr",
     "output_type": "stream",
     "text": [
      "100%|█████████████████████████████████████████████████████████████████████████████████████| 5/5 [05:41<00:00, 68.31s/it]"
     ]
    },
    {
     "name": "stdout",
     "output_type": "stream",
     "text": [
      "list index out of range\n"
     ]
    },
    {
     "name": "stderr",
     "output_type": "stream",
     "text": [
      "\n"
     ]
    }
   ],
   "source": [
    "from selenium import webdriver\n",
    "from webdriver_manager.chrome import ChromeDriverManager\n",
    "from selenium.webdriver.chrome.service import Service\n",
    "from bs4 import BeautifulSoup as BS\n",
    "from tqdm import tqdm\n",
    "import time\n",
    "options = webdriver.ChromeOptions()\n",
    "options.add_argument(\"--headless\")\n",
    "driver = webdriver.Chrome(service=Service(ChromeDriverManager(driver_version=\"131.0.6778.70\").install()),options=options)\n",
    "\n",
    "\n",
    "total_spec = []\n",
    "\n",
    "for x in tqdm(brand_cd_br):\n",
    "    url = f\"https://auto.danawa.com/auto/?Work=brand&Brand={x}\"\n",
    "    \n",
    "    driver.get(url)\n",
    "    \n",
    "    time.sleep(2)\n",
    "    \n",
    "    brand_info = BS(driver.page_source)\n",
    "\n",
    "    # 모델 코드\n",
    "    try:\n",
    "        model_code = [ x1['code'] for x1 in brand_info.find('dl', 'modelBox').find_all('li') ]\n",
    "    except Exception as e:\n",
    "        print(e)\n",
    "    \n",
    "    for y in model_code:\n",
    "        url = f\"https://auto.danawa.com/auto/?Work=model&Model={y}\"\n",
    "\n",
    "        driver.get(url)\n",
    "        \n",
    "        time.sleep(2)\n",
    "        \n",
    "        model_info = BS(driver.page_source)\n",
    "        \n",
    "        # 시세\n",
    "        price = model_info.find('span', \"num\").text.split('~')\n",
    "        try:\n",
    "            min_price = price[0]\n",
    "            max_price = price[1]\n",
    "        except Exception as e:\n",
    "            print(e)\n",
    "    \n",
    "        spec = model_info.find('div', 'spec').find_all('span')\n",
    "        spec_list = [ y1.text for y1 in spec ]\n",
    "        \n",
    "        car_list = [y, min_price, max_price]\n",
    "\n",
    "        if len(spec_list) < 6:\n",
    "            for y2 in spec_list:\n",
    "                car_list.append(y2)\n",
    "\n",
    "        total_spec.append(car_list)\n",
    "\n",
    "    \n",
    "    \n",
    "    "
   ]
  },
  {
   "cell_type": "code",
   "execution_count": 8,
   "id": "60e4b10c-c037-4b65-b104-29b9930f5e52",
   "metadata": {
    "scrolled": true
   },
   "outputs": [
    {
     "data": {
      "text/plain": [
       "[['3727',\n",
       "  '4,730',\n",
       "  '6,260',\n",
       "  '준중형',\n",
       "  '가솔린, 디젤',\n",
       "  '1,995~1,998cc',\n",
       "  '복합연비 10.0~14.3㎞/ℓ'],\n",
       " ['4652', '미정', '6,260', '준중형', '복합연비 인증中', '복합연비 인증中', '인증中'],\n",
       " ['3130',\n",
       "  '4,960',\n",
       "  '6,480',\n",
       "  '준중형',\n",
       "  '가솔린, 디젤',\n",
       "  '1,995~1,998cc',\n",
       "  '복합연비 10.4~14.3㎞/ℓ'],\n",
       " ['3803', '7,470', '6,480', '준중형', '가솔린', '1,998~2,998cc', '복합연비 9.6~11.2㎞/ℓ'],\n",
       " ['4654', '미정', '6,480', '준중형', '복합연비 인증中', '복합연비 인증中', '인증中'],\n",
       " ['4683', '미정', '6,480', '준중형', '복합연비 인증中', '복합연비 인증中', '인증中'],\n",
       " ['4364', '5,760', '9,090'],\n",
       " ['4650',\n",
       "  '5,860',\n",
       "  '9,860',\n",
       "  '중형',\n",
       "  '가솔린, 디젤',\n",
       "  '1,995~2,998cc',\n",
       "  '복합연비 10.8~14.4㎞/ℓ'],\n",
       " ['3905',\n",
       "  '6,510',\n",
       "  '6,730',\n",
       "  '중형',\n",
       "  '가솔린, 디젤',\n",
       "  '1,995~2,998cc',\n",
       "  '복합연비 9.6~15.0㎞/ℓ'],\n",
       " ['4614', '6,370', '1', '중형', '가솔린', '1,998~2,998cc', '복합연비 11.0~12.3㎞/ℓ'],\n",
       " ['4046', '8,110', '9,100'],\n",
       " ['4639', '미정', '9,100', '중형', '복합연비 인증中', '복합연비 인증中', '인증中'],\n",
       " ['4451', '미정', '9,100', '중형', '복합연비 인증中', '복합연비 인증中', '인증中'],\n",
       " ['4517', '6,880', '9,640'],\n",
       " ['4528', '9,290', '1'],\n",
       " ['3902', '8,650', '1', '준대형', '가솔린, 디젤', '1,995~2,998cc', '복합연비 9.3~13.5㎞/ℓ'],\n",
       " ['4196', '1', '1'],\n",
       " ['4181', '1', '1'],\n",
       " ['4171', '1', '1', '대형', '가솔린', '4,395cc', '복합연비 7.6~7.7㎞/ℓ'],\n",
       " ['4424',\n",
       "  '7,450',\n",
       "  '9,880',\n",
       "  '스포츠카',\n",
       "  '가솔린',\n",
       "  '1,998~2,998cc',\n",
       "  '복합연비 10.2~10.7㎞/ℓ'],\n",
       " ['4428', '8,990', '9,270', '스포츠카', '가솔린', '2,993cc', '복합연비 8.5㎞/ℓ'],\n",
       " ['4655', '미정', '9,270', '스포츠카', '복합연비 인증中', '복합연비 인증中', '인증中'],\n",
       " ['3998', '1', '9,270', '스포츠카', '가솔린', '2,993cc', '복합연비 8.1~8.3㎞/ℓ'],\n",
       " ['4649', '1', '9,270', '스포츠카', '가솔린', '2,993cc', '복합연비 인증中'],\n",
       " ['4615', '1', '9,270', '스포츠카', '가솔린', '2,993cc', '복합연비 8.1~8.2㎞/ℓ'],\n",
       " ['4657', '미정', '9,270', '스포츠카', '복합연비 인증中', '복합연비 인증中', '인증中'],\n",
       " ['4172', '2', '9,270', '스포츠카', '가솔린', '4,395cc', '복합연비 7.3~7.6㎞/ℓ'],\n",
       " ['4371',\n",
       "  '5,830',\n",
       "  '7,150',\n",
       "  '소형SUV',\n",
       "  '가솔린, 디젤',\n",
       "  '1,995~1,998cc',\n",
       "  '복합연비 10.2~14.6㎞/ℓ'],\n",
       " ['4372', '6,700', '6,960'],\n",
       " ['4580', '6,830', '8,150', '소형SUV', '가솔린', '1,998cc', '복합연비 10.1~10.8㎞/ℓ'],\n",
       " ['4582', '미정', '8,150', '소형SUV', '복합연비 인증中', '복합연비 인증中', '인증中'],\n",
       " ['4070', '7,000', '9,890'],\n",
       " ['4656', '미정', '9,890', '중형SUV', '복합연비 인증中', '복합연비 인증中', '인증中'],\n",
       " ['4071', '1', '9,890', '중형SUV', '가솔린', '2,993cc', '복합연비 7.7㎞/ℓ'],\n",
       " ['3983', '8,260', '8,460'],\n",
       " ['4072',\n",
       "  '7,210',\n",
       "  '1',\n",
       "  '중형SUV',\n",
       "  '가솔린, 디젤',\n",
       "  '1,995~2,998cc',\n",
       "  '복합연비 8.5~12.3㎞/ℓ'],\n",
       " ['4073', '1', '1', '중형SUV', '가솔린', '2,993cc', '복합연비 7.8㎞/ℓ'],\n",
       " ['4475', '1', '1'],\n",
       " ['4479', '1', '1', '대형SUV', '가솔린', '4,395cc', '복합연비 6.9㎞/ℓ'],\n",
       " ['4476', '1', '1', '대형SUV', '가솔린, 디젤', '2,993~4,395cc', '복합연비 7.8~11.9㎞/ℓ'],\n",
       " ['4480', '1', '1', '대형SUV', '가솔린', '4,395cc', '복합연비 7.0㎞/ℓ'],\n",
       " ['4009', '1', '1'],\n",
       " ['4192', '1', '1', '대형SUV', '가솔린, 디젤', '2,993~4,395cc', '복합연비 6.9~10.0㎞/ℓ'],\n",
       " ['4422', '2', '1'],\n",
       " ['4114',\n",
       "  '4,620',\n",
       "  '5,140',\n",
       "  '소형MPV',\n",
       "  '가솔린, 디젤',\n",
       "  '1,995~1,998cc',\n",
       "  '복합연비 12.2~15.8㎞/ℓ'],\n",
       " ['4427', '4,710', '7,980', '준중형', '가솔린', '1,991cc', '복합연비 9.1~12.5㎞/ℓ'],\n",
       " ['4461', '5,820', '9,000', '준중형', '가솔린', '1,991cc', '복합연비 9.2~12.0㎞/ℓ'],\n",
       " ['4037', '6,200', '7,600', '중형', '가솔린', '1,999cc', '복합연비 11.1~11.9㎞/ℓ'],\n",
       " ['4555', '7,270', '1', '중형', '가솔린', '1,999~2,999cc', '복합연비 10.7~12.1㎞/ℓ'],\n",
       " ['4516',\n",
       "  '6,990',\n",
       "  '1',\n",
       "  '준대형',\n",
       "  '가솔린, 디젤',\n",
       "  '1,993~2,999cc',\n",
       "  '복합연비 10.5~16.0㎞/ℓ'],\n",
       " ['4111', '1', '1'],\n",
       " ['3992', '1', '1'],\n",
       " ['4011', '3', '1', '대형', '가솔린', '3,982~5,980cc', '복합연비 5.8~8.1㎞/ℓ'],\n",
       " ['4048', '1', '1'],\n",
       " ['4634', '미정', '1', '대형', '복합연비 인증中', '복합연비 인증中', '인증中'],\n",
       " ['3982', '1', '1', '스포츠카', '가솔린', '2,999~3,982cc', '복합연비 6.7~8.8㎞/ℓ'],\n",
       " ['4566', '미정', '1', '스포츠카', '복합연비 인증中', '복합연비 인증中', '인증中'],\n",
       " ['4380', '2', '1', '스포츠카', '가솔린', '3,982cc', '복합연비 6.3~6.5㎞/ℓ'],\n",
       " ['4670', '미정', '1', '스포츠카', '복합연비 인증中', '복합연비 인증中', '인증中'],\n",
       " ['4495', '6,790', '6,860', '소형SUV', '가솔린', '1,991cc', '복합연비 10.8㎞/ℓ'],\n",
       " ['4496',\n",
       "  '6,210',\n",
       "  '7,790',\n",
       "  '소형SUV',\n",
       "  '가솔린, 디젤',\n",
       "  '1,950~1,991cc',\n",
       "  '복합연비 9.2~14.2㎞/ℓ'],\n",
       " ['4568', '6,790', '7,360'],\n",
       " ['4569',\n",
       "  '7,660',\n",
       "  '8,200',\n",
       "  '소형SUV',\n",
       "  '전기(배터리)',\n",
       "  '복합전비 4.1㎞/kWh',\n",
       "  '총주행거리 302Km',\n",
       "  '배터리 제조사 SK 온'],\n",
       " ['4373',\n",
       "  '7,790',\n",
       "  '1',\n",
       "  '중형SUV',\n",
       "  '가솔린, 디젤',\n",
       "  '1,991~1,999cc',\n",
       "  '복합연비 8.3~14.1㎞/ℓ'],\n",
       " ['4471', '1', '1'],\n",
       " ['4507', '1', '1', '대형SUV', '가솔린, 디젤', '2,989~3,982cc', '복합연비 6.0~10.4㎞/ℓ'],\n",
       " ['4508', '2', '1', '대형SUV', '가솔린', '3,982cc', '복합연비 6.1㎞/ℓ'],\n",
       " ['3753', '1', '1', '대형SUV', '가솔린, 디젤', '2,925~3,982cc', '복합연비 5.6~8.4㎞/ℓ'],\n",
       " ['4430', '1', '1'],\n",
       " ['4629', '1', '1', '대형SUV', '디젤', '2,989cc', '복합연비 10.0㎞/ℓ'],\n",
       " ['4638',\n",
       "  '2',\n",
       "  '1',\n",
       "  '대형SUV',\n",
       "  '전기(배터리)',\n",
       "  '복합전비 3.0㎞/kWh',\n",
       "  '총주행거리 392Km',\n",
       "  '배터리 제조사 CATL'],\n",
       " ['4381', '1', '1'],\n",
       " ['4511', '2', '1'],\n",
       " ['3795', '미정', '1', '소형', '복합연비 인증中', '복합연비 인증中', '인증中'],\n",
       " ['4141', '4,233', '7,770', '준중형', '가솔린', '1,984~2,480cc', '복합연비 9.2~13.0㎞/ℓ'],\n",
       " ['3899',\n",
       "  '5,454',\n",
       "  '8,408',\n",
       "  '중형',\n",
       "  '가솔린, 디젤',\n",
       "  '1,968~2,995cc',\n",
       "  '복합연비 9.6~16.9㎞/ℓ'],\n",
       " ['3900', '6,096', '1', '중형', '가솔린, 디젤', '1,968~2,995cc', '복합연비 8.3~16.3㎞/ℓ'],\n",
       " ['3713', '7,072', '1', '준대형', '가솔린, 디젤', '1,968~3,996cc', '복합연비 7.0~15.8㎞/ℓ'],\n",
       " ['4142', '미정', '1', '준대형', '복합연비 인증中', '복합연비 인증中', '인증中'],\n",
       " ['3537', '9,562', '1'],\n",
       " ['4039', '1', '1'],\n",
       " ['4431', '1', '1', '대형', '가솔린, 디젤', '2,967~3,996cc', '복합연비 7.4~11.4㎞/ℓ'],\n",
       " ['4144', '4,090', '4,440', '소형SUV', '디젤', '1,968cc', '복합연비 16.7㎞/ℓ'],\n",
       " ['3668',\n",
       "  '4,966',\n",
       "  '6,070',\n",
       "  '중형SUV',\n",
       "  '가솔린, 디젤',\n",
       "  '1,968~1,984cc',\n",
       "  '복합연비 9.9~14.8㎞/ℓ'],\n",
       " ['4062', '6,170', '7,540'],\n",
       " ['4074',\n",
       "  '7,043',\n",
       "  '9,997',\n",
       "  '중형SUV',\n",
       "  '가솔린, 디젤',\n",
       "  '1,968~2,995cc',\n",
       "  '복합연비 8.6~13.0㎞/ℓ'],\n",
       " ['4690', '미정', '9,997', '중형SUV', '전기(배터리)', '복합전비 인증中', '배터리 용량 100kWh'],\n",
       " ['3739',\n",
       "  '9,897',\n",
       "  '1',\n",
       "  '대형SUV',\n",
       "  '가솔린, 디젤',\n",
       "  '2,967~3,996cc',\n",
       "  '복합연비 6.7~11.0㎞/ℓ'],\n",
       " ['3715', '1', '1', '대형SUV', '가솔린, 디젤', '2,967~3,996cc', '복합연비 6.6~10.7㎞/ℓ'],\n",
       " ['3667', '1', '1'],\n",
       " ['4436', '1', '1'],\n",
       " ['4468', '5,490', '6,389'],\n",
       " ['4409', '미정', '6,389', '스포츠카', '복합연비 인증中', '복합연비 인증中', '인증中'],\n",
       " ['4513', '6,690', '7,190'],\n",
       " ['4375', '미정', '7,190', '대형SUV', '전기', '복합연비 인증中'],\n",
       " ['4419', '5,640', '5,690', '중형', '가솔린', '1,969cc', '복합연비 11.3~11.8㎞/ℓ'],\n",
       " ['4421', '5,630', '6,290', '중형', '가솔린', '1,969cc', '복합연비 9.9㎞/ℓ'],\n",
       " ['4007', '7,250', '7,820', '준대형', '가솔린', '1,969cc', '복합연비 10.3~11.0㎞/ℓ'],\n",
       " ['3978', '6,400', '8,647'],\n",
       " ['4446',\n",
       "  '4,945',\n",
       "  '5,516',\n",
       "  '소형SUV',\n",
       "  '전기(배터리)',\n",
       "  '복합전비 인증中',\n",
       "  '총주행거리 475Km',\n",
       "  '배터리 용량 69kWh'],\n",
       " ['4041', '6,865', '5,516'],\n",
       " ['4405', '4,920', '5,615', '중형SUV', '가솔린', '1,969cc', '복합연비 10.1~10.3㎞/ℓ'],\n",
       " ['4406', '6,769', '5,615'],\n",
       " ['4113', '6,390', '8,640'],\n",
       " ['3799', '8,720', '1'],\n",
       " ['4418', '미정', '1', '대형SUV', '복합연비 인증中', '복합연비 인증中', '인증中'],\n",
       " ['4588', '미정', '1', '대형MPV', '복합연비 인증中', '복합연비 인증中', '인증中']]"
      ]
     },
     "execution_count": 8,
     "metadata": {},
     "output_type": "execute_result"
    }
   ],
   "source": [
    "total_spec"
   ]
  },
  {
   "cell_type": "code",
   "execution_count": 176,
   "id": "7ec1cb26-8c39-449e-8fd3-7382bb5cb009",
   "metadata": {},
   "outputs": [],
   "source": [
    "import pandas as pd\n",
    "\n",
    "df_info = pd.DataFrame(total_spec, columns= ['cd_model','min_price','max_price','car_size','fuel_type','cc','fuel_efficiency', 'etc'])"
   ]
  },
  {
   "cell_type": "code",
   "execution_count": 177,
   "id": "3e702e36-00b8-4830-81a2-904ccbc83da3",
   "metadata": {},
   "outputs": [
    {
     "data": {
      "text/plain": [
       "88"
      ]
     },
     "execution_count": 177,
     "metadata": {},
     "output_type": "execute_result"
    }
   ],
   "source": [
    "import sqlalchemy\n",
    "from urllib import parse\n",
    "\n",
    "user='team2'\n",
    "password='Encore_team2@'\n",
    "password = parse.quote_plus(password)\n",
    "host='192.168.0.95'\n",
    "#host='222.112.208.67'\n",
    "port=3306\n",
    "database='team2'\n",
    "engine=sqlalchemy.create_engine(f'mysql://{user}:{password}@{host}:{port}/{database}')\n",
    "\n",
    "df_info.to_sql('danawa_carInfo', if_exists='replace', con=engine, index=False)"
   ]
  },
  {
   "cell_type": "code",
   "execution_count": null,
   "id": "ae81e56f-9a95-4c45-951e-a968bb3b6f7f",
   "metadata": {},
   "outputs": [],
   "source": []
  }
 ],
 "metadata": {
  "kernelspec": {
   "display_name": "Python 3 (ipykernel)",
   "language": "python",
   "name": "python3"
  },
  "language_info": {
   "codemirror_mode": {
    "name": "ipython",
    "version": 3
   },
   "file_extension": ".py",
   "mimetype": "text/x-python",
   "name": "python",
   "nbconvert_exporter": "python",
   "pygments_lexer": "ipython3",
   "version": "3.10.15"
  }
 },
 "nbformat": 4,
 "nbformat_minor": 5
}
