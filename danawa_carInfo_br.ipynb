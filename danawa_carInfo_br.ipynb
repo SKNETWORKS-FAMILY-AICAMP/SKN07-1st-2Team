{
 "cells": [
  {
   "cell_type": "code",
   "execution_count": 1,
   "id": "f1899152-c673-4701-a844-078258d39aec",
   "metadata": {},
   "outputs": [],
   "source": [
    "from selenium import webdriver\n",
    "from webdriver_manager.chrome import ChromeDriverManager\n",
    "from selenium.webdriver.chrome.service import Service\n",
    "from bs4 import BeautifulSoup as BS\n",
    "options = webdriver.ChromeOptions()\n",
    "options.add_argument(\"--headless\")\n",
    "driver = webdriver.Chrome(service=Service(ChromeDriverManager(driver_version=\"131.0.6778.70\").install()),options=options)"
   ]
  },
  {
   "cell_type": "markdown",
   "id": "894fc3cc-c180-4af7-868e-59e30d2bd451",
   "metadata": {},
   "source": [
    "## 스펙 조회"
   ]
  },
  {
   "cell_type": "code",
   "execution_count": 231,
   "id": "25e8fe9d-9c5c-4a52-8b9d-684210b07db6",
   "metadata": {},
   "outputs": [],
   "source": [
    "url = \"https://auto.danawa.com/auto/?Work=model&Model=1542\"\n",
    "\n",
    "driver.get(url)\n",
    "\n",
    "bs = BS(driver.page_source)"
   ]
  },
  {
   "cell_type": "code",
   "execution_count": 227,
   "id": "90c0aff7-bc39-41f0-b449-0f3cdb18f502",
   "metadata": {},
   "outputs": [],
   "source": [
    "# 시세\n",
    "import re\n",
    "\n",
    "min_price = 0\n",
    "max_price = 0\n",
    "\n",
    "price = model_info.find('div', 'newcar').find('div', 'price_title').text.split(\"~\")\n",
    "\n",
    "re_price = [re.sub(r'[^0-9]', '', x) for x in price]\n",
    "\n",
    "if len(re_price) == 1:\n",
    "    min_price = re_price\n",
    "    \n",
    "else:\n",
    "    min_price = re_price[0]\n",
    "    max_price = re_price[1]"
   ]
  },
  {
   "cell_type": "code",
   "execution_count": 237,
   "id": "ad9b7e7e-d851-4e23-8a7b-8794223bc82c",
   "metadata": {},
   "outputs": [
    {
     "data": {
      "text/plain": [
       "['중형', '연비인증中', None, None, None]"
      ]
     },
     "execution_count": 237,
     "metadata": {},
     "output_type": "execute_result"
    }
   ],
   "source": [
    "# 스펙\n",
    "spec = []\n",
    "spec_list = []\n",
    "car_size = None\n",
    "fuel_type = None\n",
    "cc = None\n",
    "fuel_efficiency = None\n",
    "etc = None\n",
    "\n",
    "for x in bs.find('div', 'spec').findAll('span'):\n",
    "    if x.find('span') == None:\n",
    "        spec.append(x.text)\n",
    "\n",
    "car_size = spec[0]\n",
    "fuel_type = spec[1]\n",
    "spec = spec[2:]\n",
    "\n",
    "for x in spec:\n",
    "    if 'cc' in x:\n",
    "        cc = x\n",
    "        spec.remove(x)\n",
    "        break\n",
    "    else:\n",
    "        cc = None\n",
    "for x in spec:\n",
    "    if ('연비' in x) or ('전비' in x):\n",
    "        fuel_efficiency = x\n",
    "        spec.remove(x)\n",
    "        break\n",
    "    else:\n",
    "        fuel_efficiency = None\n",
    "        \n",
    "if len(spec) > 0:\n",
    "    etc = (\", \").join(spec)\n",
    "else:\n",
    "    etc = None\n",
    "    \n",
    "spec_list = [car_size, fuel_type, cc, fuel_efficiency, etc]"
   ]
  },
  {
   "cell_type": "markdown",
   "id": "23caea34-8ea1-4cf8-b9c7-f5e00d3df0ed",
   "metadata": {},
   "source": [
    "## 브랜드 코드 조회"
   ]
  },
  {
   "cell_type": "code",
   "execution_count": 252,
   "id": "008d2a7e-cccf-4843-ae33-4e43556082df",
   "metadata": {},
   "outputs": [],
   "source": [
    "# 브랜드 코드 조회\n",
    "\n",
    "url = \"https://auto.danawa.com/auto/?Work=home\"\n",
    "\n",
    "driver.get(url)\n",
    "\n",
    "from bs4 import BeautifulSoup as BS\n",
    "\n",
    "bs3 = BS(driver.page_source)\n",
    "\n",
    "# 국내 브랜드 리스트\n",
    "brand_list_kr = [ x['href'] for x in bs3.find_all('ul', 'brandList')[0].find_all('a') ]\n",
    "\n",
    "brand_code_kr = [ x.split('=')[-1] for x in brand_list_kr ]"
   ]
  },
  {
   "cell_type": "code",
   "execution_count": 253,
   "id": "adc51de0-f7ec-4925-8b6e-0b03f39b5ceb",
   "metadata": {
    "scrolled": true
   },
   "outputs": [],
   "source": [
    "brand_list_kr = [ x['href'] for x in bs3.find_all('ul', 'brandList')[0].find_all('a') ]"
   ]
  },
  {
   "cell_type": "code",
   "execution_count": 254,
   "id": "e71334f3-dbe4-4bf6-a2d5-d0337fbfb33e",
   "metadata": {},
   "outputs": [],
   "source": [
    "brand_code_kr = [ x.split('=')[-1] for x in brand_list_kr ]"
   ]
  },
  {
   "cell_type": "code",
   "execution_count": 255,
   "id": "d9a74785-a287-4b81-b028-491df6fef6e1",
   "metadata": {
    "scrolled": true
   },
   "outputs": [],
   "source": [
    "# 국내 브랜드 코드 --> 현대, 기아, 제네시스, 쉐보레, 르노 삼성\n",
    "brand_cd_kr = brand_code_kr[ : 5]"
   ]
  },
  {
   "cell_type": "markdown",
   "id": "18f2bddb-bced-4482-a033-ae59f813dce5",
   "metadata": {},
   "source": [
    "## 모델코드 조회"
   ]
  },
  {
   "cell_type": "code",
   "execution_count": 134,
   "id": "7911ecee-fd75-445f-9847-4a06da2a757d",
   "metadata": {},
   "outputs": [],
   "source": [
    "url = f\"https://auto.danawa.com/auto/?Work=brand&Brand={brand_code_kr[1]}\"\n",
    "\n",
    "driver.get(url)\n",
    "\n",
    "from bs4 import BeautifulSoup as BS\n",
    "\n",
    "brand_home = BS(driver.page_source)\n",
    "\n",
    "# 모델코드\n",
    "brand_model_code = [ x['code'] for x in bs2.find('dl', 'modelBox').find_all('li') ]"
   ]
  },
  {
   "cell_type": "markdown",
   "id": "9d3e2a8d-b575-4839-93d7-43638faa026a",
   "metadata": {},
   "source": [
    "## 전체 데이터 생성 코드"
   ]
  },
  {
   "cell_type": "code",
   "execution_count": null,
   "id": "eed2108b-8eef-4558-a285-f87473cba331",
   "metadata": {
    "scrolled": true
   },
   "outputs": [
    {
     "name": "stderr",
     "output_type": "stream",
     "text": [
      "  0%|                                                                                             | 0/5 [00:00<?, ?it/s]\n",
      "  0%|                                                                                            | 0/30 [00:00<?, ?it/s]\u001b[A\n",
      "  3%|██▊                                                                                 | 1/30 [00:02<01:18,  2.71s/it]\u001b[A\n",
      "  7%|█████▌                                                                              | 2/30 [00:05<01:16,  2.74s/it]\u001b[A\n",
      " 10%|████████▍                                                                           | 3/30 [00:08<01:12,  2.67s/it]\u001b[A\n",
      " 13%|███████████▏                                                                        | 4/30 [00:10<01:09,  2.66s/it]\u001b[A\n",
      " 17%|██████████████                                                                      | 5/30 [00:13<01:05,  2.64s/it]\u001b[A\n",
      " 20%|████████████████▊                                                                   | 6/30 [00:15<01:03,  2.64s/it]\u001b[A\n",
      " 23%|███████████████████▌                                                                | 7/30 [00:19<01:06,  2.87s/it]\u001b[A\n",
      " 27%|██████████████████████▍                                                             | 8/30 [00:21<01:01,  2.81s/it]\u001b[A\n",
      " 30%|█████████████████████████▏                                                          | 9/30 [00:24<00:59,  2.82s/it]\u001b[A\n",
      " 33%|███████████████████████████▋                                                       | 10/30 [00:27<00:55,  2.76s/it]\u001b[A\n",
      " 37%|██████████████████████████████▍                                                    | 11/30 [00:30<00:52,  2.74s/it]\u001b[A\n",
      " 40%|█████████████████████████████████▏                                                 | 12/30 [00:32<00:48,  2.69s/it]\u001b[A\n",
      " 43%|███████████████████████████████████▉                                               | 13/30 [00:36<00:49,  2.92s/it]\u001b[A\n",
      " 47%|██████████████████████████████████████▋                                            | 14/30 [00:38<00:45,  2.82s/it]\u001b[A\n",
      " 50%|█████████████████████████████████████████▌                                         | 15/30 [00:42<00:44,  2.99s/it]\u001b[A\n",
      " 53%|████████████████████████████████████████████▎                                      | 16/30 [00:56<01:30,  6.45s/it]\u001b[A\n",
      " 57%|███████████████████████████████████████████████                                    | 17/30 [00:59<01:08,  5.27s/it]\u001b[A\n",
      " 60%|█████████████████████████████████████████████████▊                                 | 18/30 [01:01<00:54,  4.53s/it]\u001b[A\n",
      " 63%|████████████████████████████████████████████████████▌                              | 19/30 [01:04<00:43,  4.00s/it]\u001b[A\n",
      " 67%|███████████████████████████████████████████████████████▎                           | 20/30 [01:08<00:38,  3.86s/it]\u001b[A\n",
      " 70%|██████████████████████████████████████████████████████████                         | 21/30 [01:12<00:36,  4.07s/it]\u001b[A\n",
      " 73%|████████████████████████████████████████████████████████████▊                      | 22/30 [01:18<00:37,  4.70s/it]\u001b[A\n",
      " 77%|███████████████████████████████████████████████████████████████▋                   | 23/30 [01:21<00:29,  4.17s/it]\u001b[A\n",
      " 80%|██████████████████████████████████████████████████████████████████▍                | 24/30 [01:24<00:22,  3.68s/it]\u001b[A\n",
      " 83%|█████████████████████████████████████████████████████████████████████▏             | 25/30 [01:27<00:17,  3.40s/it]\u001b[A\n",
      " 87%|███████████████████████████████████████████████████████████████████████▉           | 26/30 [01:30<00:13,  3.28s/it]\u001b[A\n",
      " 90%|██████████████████████████████████████████████████████████████████████████▋        | 27/30 [01:32<00:09,  3.07s/it]\u001b[A\n",
      " 93%|█████████████████████████████████████████████████████████████████████████████▍     | 28/30 [01:35<00:05,  2.92s/it]\u001b[A\n",
      " 97%|████████████████████████████████████████████████████████████████████████████████▏  | 29/30 [01:38<00:02,  2.85s/it]\u001b[A\n",
      "100%|███████████████████████████████████████████████████████████████████████████████████| 30/30 [01:40<00:00,  3.36s/it]\u001b[A\n",
      " 20%|████████████████▊                                                                   | 1/5 [01:43<06:54, 103.68s/it]\n",
      "  0%|                                                                                            | 0/24 [00:00<?, ?it/s]\u001b[A\n",
      "  4%|███▌                                                                                | 1/24 [00:02<00:59,  2.59s/it]\u001b[A\n",
      "  8%|███████                                                                             | 2/24 [00:06<01:08,  3.11s/it]\u001b[A\n",
      " 12%|██████████▌                                                                         | 3/24 [00:09<01:09,  3.29s/it]\u001b[A\n",
      " 17%|██████████████                                                                      | 4/24 [00:13<01:12,  3.65s/it]\u001b[A\n",
      " 21%|█████████████████▌                                                                  | 5/24 [00:16<01:02,  3.31s/it]\u001b[A\n",
      " 25%|█████████████████████                                                               | 6/24 [00:19<00:55,  3.09s/it]\u001b[A\n",
      " 29%|████████████████████████▌                                                           | 7/24 [00:22<00:54,  3.19s/it]\u001b[A\n",
      " 33%|████████████████████████████                                                        | 8/24 [00:25<00:48,  3.01s/it]\u001b[A\n",
      " 38%|███████████████████████████████▌                                                    | 9/24 [00:27<00:43,  2.88s/it]\u001b[A\n",
      " 42%|██████████████████████████████████▌                                                | 10/24 [00:30<00:39,  2.81s/it]\u001b[A\n",
      " 46%|██████████████████████████████████████                                             | 11/24 [00:32<00:35,  2.73s/it]\u001b[A\n",
      " 50%|█████████████████████████████████████████▌                                         | 12/24 [00:35<00:32,  2.75s/it]\u001b[A\n",
      " 54%|████████████████████████████████████████████▉                                      | 13/24 [00:38<00:29,  2.70s/it]\u001b[A\n",
      " 58%|████████████████████████████████████████████████▍                                  | 14/24 [00:40<00:26,  2.65s/it]\u001b[A\n",
      " 62%|███████████████████████████████████████████████████▉                               | 15/24 [00:43<00:23,  2.65s/it]\u001b[A\n",
      " 67%|███████████████████████████████████████████████████████▎                           | 16/24 [00:46<00:21,  2.66s/it]\u001b[A\n",
      " 71%|██████████████████████████████████████████████████████████▊                        | 17/24 [00:48<00:18,  2.65s/it]\u001b[A"
     ]
    }
   ],
   "source": [
    "from selenium import webdriver\n",
    "from webdriver_manager.chrome import ChromeDriverManager\n",
    "from selenium.webdriver.chrome.service import Service\n",
    "from bs4 import BeautifulSoup as BS\n",
    "from tqdm import tqdm\n",
    "import time\n",
    "import re\n",
    "\n",
    "\n",
    "options = webdriver.ChromeOptions()\n",
    "options.add_argument(\"--headless\")\n",
    "driver = webdriver.Chrome(service=Service(ChromeDriverManager(driver_version=\"131.0.6778.70\").install()),options=options)\n",
    "\n",
    "\n",
    "total_spec = []\n",
    "\n",
    "for x in tqdm(brand_cd_br):\n",
    "    url = f\"https://auto.danawa.com/auto/?Work=brand&Brand={x}\"\n",
    "    \n",
    "    driver.get(url)\n",
    "    \n",
    "    time.sleep(2)\n",
    "    \n",
    "    brand_info = BS(driver.page_source)\n",
    "\n",
    "    # 모델 코드\n",
    "    try:\n",
    "        model_code = [ x1['code'] for x1 in brand_info.find('dl', 'modelBox').find_all('li') ]\n",
    "    except Exception as e:\n",
    "        print(e)\n",
    "    \n",
    "    for y in tqdm(model_code):\n",
    "        try:\n",
    "            url = f\"https://auto.danawa.com/auto/?Work=model&Model={y}\"\n",
    "\n",
    "            driver.get(url)\n",
    "            \n",
    "            time.sleep(2)\n",
    "            \n",
    "            model_info = BS(driver.page_source)\n",
    "            \n",
    "            # 시세\n",
    "            min_price = 0\n",
    "            max_price = 0\n",
    "            \n",
    "            price = model_info.find('div', 'newcar').find('div', 'price_title').text.split(\"~\")\n",
    "            \n",
    "            re_price = [re.sub(r'[^0-9]', '', x) for x in price]\n",
    "            \n",
    "            if len(re_price) > 1:\n",
    "                min_price = re_price[0]\n",
    "                max_price = re_price[1]\n",
    "            elif (len(re_price) == 1) & (re_price[0] != ''):\n",
    "                min_price = re_price[0]\n",
    "                max_price = 0\n",
    "            else:\n",
    "                min_price = 0\n",
    "                max_price = 0\n",
    "            \n",
    "            # 스펙\n",
    "            spec = []\n",
    "            spec_list = []\n",
    "            car_size = None\n",
    "            fuel_type = None\n",
    "            cc = None\n",
    "            fuel_efficiency = None\n",
    "            etc = None\n",
    "            \n",
    "            for x in model_info.find('div', 'spec').findAll('span'):\n",
    "                if x.find('span') == None:\n",
    "                    spec.append(x.text)\n",
    "            \n",
    "            car_size = spec[0]\n",
    "            fuel_type = spec[1]\n",
    "            spec = spec[2:]\n",
    "            \n",
    "            for x in spec:\n",
    "                if 'cc' in x:\n",
    "                    cc = x\n",
    "                    spec.remove(x)\n",
    "                    break\n",
    "                else:\n",
    "                    cc = None\n",
    "            for x in spec:\n",
    "                if ('연비' in x) or ('전비' in x):\n",
    "                    fuel_efficiency = x\n",
    "                    spec.remove(x)\n",
    "                    break\n",
    "                else:\n",
    "                    fuel_efficiency = None\n",
    "                    \n",
    "            if len(spec) > 0:\n",
    "                etc = (\", \").join(spec)\n",
    "            else:\n",
    "                etc = None\n",
    "                \n",
    "            spec_list = [y, min_price, max_price, car_size, fuel_type, cc, fuel_efficiency, etc]\n",
    "\n",
    "            total_spec.append(spec_list)\n",
    "        except Exception as e:\n",
    "            print(e)"
   ]
  },
  {
   "cell_type": "markdown",
   "id": "b7f4bdbd-c016-43c3-850e-efbfe5651168",
   "metadata": {},
   "source": [
    "## DB Table 생성"
   ]
  },
  {
   "cell_type": "code",
   "execution_count": 282,
   "id": "7ec1cb26-8c39-449e-8fd3-7382bb5cb009",
   "metadata": {},
   "outputs": [],
   "source": [
    "import pandas as pd\n",
    "\n",
    "df_info_kr = pd.DataFrame(total_spec, columns= ['cd_model','min_price','max_price','car_size','fuel_type','cc','fuel_efficiency', 'etc'])"
   ]
  },
  {
   "cell_type": "code",
   "execution_count": 284,
   "id": "3e702e36-00b8-4830-81a2-904ccbc83da3",
   "metadata": {},
   "outputs": [
    {
     "data": {
      "text/plain": [
       "88"
      ]
     },
     "execution_count": 284,
     "metadata": {},
     "output_type": "execute_result"
    }
   ],
   "source": [
    "import sqlalchemy\n",
    "from urllib import parse\n",
    "\n",
    "user='team2'\n",
    "password='Encore_team2@'\n",
    "password = parse.quote_plus(password)\n",
    "host='192.168.0.95'\n",
    "#host='222.112.208.67'\n",
    "port=3306\n",
    "database='team2'\n",
    "engine=sqlalchemy.create_engine(f'mysql://{user}:{password}@{host}:{port}/{database}')\n",
    "\n",
    "df_info_kr.to_sql('danawa_carInfo', if_exists='replace', con=engine, index=False)"
   ]
  },
  {
   "cell_type": "code",
   "execution_count": null,
   "id": "ae81e56f-9a95-4c45-951e-a968bb3b6f7f",
   "metadata": {},
   "outputs": [],
   "source": []
  }
 ],
 "metadata": {
  "kernelspec": {
   "display_name": "Python 3 (ipykernel)",
   "language": "python",
   "name": "python3"
  },
  "language_info": {
   "codemirror_mode": {
    "name": "ipython",
    "version": 3
   },
   "file_extension": ".py",
   "mimetype": "text/x-python",
   "name": "python",
   "nbconvert_exporter": "python",
   "pygments_lexer": "ipython3",
   "version": "3.10.15"
  }
 },
 "nbformat": 4,
 "nbformat_minor": 5
}
