{
 "cells": [
  {
   "cell_type": "markdown",
   "id": "311a88f0-3c94-4229-9c55-9ce2193da5df",
   "metadata": {},
   "source": [
    "## 3. 크롤링 - 브랜드/모델 이름&코드 테이블 생성"
   ]
  },
  {
   "cell_type": "markdown",
   "id": "71ddaa53-99df-4d09-acb1-01c751ffc8bf",
   "metadata": {},
   "source": [
    "### 브랜드 코드/이름 테이블"
   ]
  },
  {
   "cell_type": "code",
   "execution_count": 292,
   "id": "7cf26953-6862-4b34-a7ab-5e42df54a681",
   "metadata": {},
   "outputs": [],
   "source": [
    "from selenium import webdriver\n",
    "from webdriver_manager.chrome import ChromeDriverManager\n",
    "from selenium.webdriver.chrome.service import Service\n",
    "from bs4 import BeautifulSoup as BS\n",
    "from tqdm import tqdm\n",
    "import time\n",
    "import pandas as pd\n",
    "\n",
    "options = webdriver.ChromeOptions()\n",
    "options.add_argument(\"--headless\")\n",
    "driver = webdriver.Chrome(service=Service(ChromeDriverManager(driver_version=\"131.0.6778.70\").install()),options=options)\n",
    "\n",
    "# 브랜드 코드 조회\n",
    "url = \"https://auto.danawa.com/auto/?Work=home\"\n",
    "driver.get(url)\n",
    "time.sleep(3)\n",
    "bs3 = BS(driver.page_source)\n",
    "\n",
    "li_brand = list()\n",
    "# 국내\n",
    "for br in bs3.find('div', class_='domestic').findAll('li'):\n",
    "    # 브랜드 이름\n",
    "    nm_brand = br.text\n",
    "    # 브랜드 코드\n",
    "    cd_brand = br.find('a')['href'].split('=')[-1]\n",
    "    li_brand.append([cd_brand, nm_brand, 1])\n",
    "    \n",
    "# 수입\n",
    "for br in bs3.find('div', class_='import').findAll('li'):\n",
    "    # 브랜드 이름\n",
    "    nm_brand = br.text\n",
    "    # 브랜드 코드\n",
    "    cd_brand = br.find('a')['href'].split('=')[-1]\n",
    "    li_brand.append([cd_brand, nm_brand, 0])\n",
    "\n",
    "df_brand = pd.DataFrame(li_brand, columns = ['cd_brand','nm_brand','domestic_bit'])\n"
   ]
  },
  {
   "cell_type": "code",
   "execution_count": 294,
   "id": "bc74425a-d68f-4be9-a384-9ebb10bcc52e",
   "metadata": {
    "collapsed": true,
    "jupyter": {
     "outputs_hidden": true
    },
    "scrolled": true
   },
   "outputs": [
    {
     "data": {
      "text/html": [
       "<div>\n",
       "<style scoped>\n",
       "    .dataframe tbody tr th:only-of-type {\n",
       "        vertical-align: middle;\n",
       "    }\n",
       "\n",
       "    .dataframe tbody tr th {\n",
       "        vertical-align: top;\n",
       "    }\n",
       "\n",
       "    .dataframe thead th {\n",
       "        text-align: right;\n",
       "    }\n",
       "</style>\n",
       "<table border=\"1\" class=\"dataframe\">\n",
       "  <thead>\n",
       "    <tr style=\"text-align: right;\">\n",
       "      <th></th>\n",
       "      <th>cd_brand</th>\n",
       "      <th>nm_brand</th>\n",
       "      <th>domestic_bit</th>\n",
       "    </tr>\n",
       "  </thead>\n",
       "  <tbody>\n",
       "    <tr>\n",
       "      <th>0</th>\n",
       "      <td>303</td>\n",
       "      <td>현대</td>\n",
       "      <td>1</td>\n",
       "    </tr>\n",
       "    <tr>\n",
       "      <th>1</th>\n",
       "      <td>307</td>\n",
       "      <td>기아</td>\n",
       "      <td>1</td>\n",
       "    </tr>\n",
       "    <tr>\n",
       "      <th>2</th>\n",
       "      <td>304</td>\n",
       "      <td>제네시스</td>\n",
       "      <td>1</td>\n",
       "    </tr>\n",
       "    <tr>\n",
       "      <th>3</th>\n",
       "      <td>312</td>\n",
       "      <td>쉐보레</td>\n",
       "      <td>1</td>\n",
       "    </tr>\n",
       "    <tr>\n",
       "      <th>4</th>\n",
       "      <td>321</td>\n",
       "      <td>르노코리아</td>\n",
       "      <td>1</td>\n",
       "    </tr>\n",
       "    <tr>\n",
       "      <th>...</th>\n",
       "      <td>...</td>\n",
       "      <td>...</td>\n",
       "      <td>...</td>\n",
       "    </tr>\n",
       "    <tr>\n",
       "      <th>66</th>\n",
       "      <td>528</td>\n",
       "      <td>스바루</td>\n",
       "      <td>0</td>\n",
       "    </tr>\n",
       "    <tr>\n",
       "      <th>67</th>\n",
       "      <td>518</td>\n",
       "      <td>미쓰비시</td>\n",
       "      <td>0</td>\n",
       "    </tr>\n",
       "    <tr>\n",
       "      <th>68</th>\n",
       "      <td>610</td>\n",
       "      <td>북기은상</td>\n",
       "      <td>0</td>\n",
       "    </tr>\n",
       "    <tr>\n",
       "      <th>69</th>\n",
       "      <td>583</td>\n",
       "      <td>크라이슬러</td>\n",
       "      <td>0</td>\n",
       "    </tr>\n",
       "    <tr>\n",
       "      <th>70</th>\n",
       "      <td>592</td>\n",
       "      <td>닷지</td>\n",
       "      <td>0</td>\n",
       "    </tr>\n",
       "  </tbody>\n",
       "</table>\n",
       "<p>71 rows × 3 columns</p>\n",
       "</div>"
      ],
      "text/plain": [
       "   cd_brand nm_brand  domestic_bit\n",
       "0       303       현대             1\n",
       "1       307       기아             1\n",
       "2       304     제네시스             1\n",
       "3       312      쉐보레             1\n",
       "4       321    르노코리아             1\n",
       "..      ...      ...           ...\n",
       "66      528      스바루             0\n",
       "67      518     미쓰비시             0\n",
       "68      610     북기은상             0\n",
       "69      583    크라이슬러             0\n",
       "70      592       닷지             0\n",
       "\n",
       "[71 rows x 3 columns]"
      ]
     },
     "execution_count": 294,
     "metadata": {},
     "output_type": "execute_result"
    }
   ],
   "source": [
    "df_brand"
   ]
  },
  {
   "cell_type": "markdown",
   "id": "3e5e399d-e195-4d8c-bf68-e88d93408873",
   "metadata": {},
   "source": [
    "### 차량모델 코드/이름 테이블"
   ]
  },
  {
   "cell_type": "code",
   "execution_count": 316,
   "id": "b54b2212-8d94-4a7d-bd62-b9f769c5770e",
   "metadata": {},
   "outputs": [
    {
     "name": "stderr",
     "output_type": "stream",
     "text": [
      "100%|█████████████████████████████████████| 71/71 [04:23<00:00,  3.72s/it]\n"
     ]
    }
   ],
   "source": [
    "# 브랜드 코드 리스트\n",
    "li_brand_cd = df_brand.cd_brand.tolist()\n",
    "\n",
    "li_model = list()\n",
    "for cd_brand in tqdm(li_brand_cd):\n",
    "    url = f\"https://auto.danawa.com/auto/?Work=brand&Brand={cd_brand}\"\n",
    "    driver.get(url)\n",
    "    time.sleep(3)\n",
    "    bs4 = BS(driver.page_source)\n",
    "    \n",
    "    if bs4.find('dl', class_='modelBox leftType clearFix') != None:\n",
    "        \n",
    "        for mo in bs4.find('dl', class_='modelBox leftType clearFix').findAll('li'):\n",
    "            # 차량모델 코드\n",
    "            cd_model = mo['code']\n",
    "            # 차량모델 이름\n",
    "            nm_model = mo.text.strip()\n",
    "            li_model.append([cd_model, nm_model, cd_brand])\n",
    "            \n",
    "df_model = pd.DataFrame(li_model, columns = ['cd_model','nm_model','cd_brand'])"
   ]
  },
  {
   "cell_type": "code",
   "execution_count": 317,
   "id": "c526b47b-51a4-44b8-a6bc-dd8268a55972",
   "metadata": {},
   "outputs": [
    {
     "name": "stdout",
     "output_type": "stream",
     "text": [
      "<class 'pandas.core.frame.DataFrame'>\n",
      "RangeIndex: 428 entries, 0 to 427\n",
      "Data columns (total 3 columns):\n",
      " #   Column    Non-Null Count  Dtype \n",
      "---  ------    --------------  ----- \n",
      " 0   cd_model  428 non-null    object\n",
      " 1   nm_model  428 non-null    object\n",
      " 2   cd_brand  428 non-null    object\n",
      "dtypes: object(3)\n",
      "memory usage: 10.2+ KB\n"
     ]
    }
   ],
   "source": [
    "df_model.info()"
   ]
  },
  {
   "cell_type": "code",
   "execution_count": 318,
   "id": "f13b9b00-29de-4322-aea8-de59f3ebfd7a",
   "metadata": {
    "collapsed": true,
    "jupyter": {
     "outputs_hidden": true
    }
   },
   "outputs": [
    {
     "data": {
      "text/html": [
       "<div>\n",
       "<style scoped>\n",
       "    .dataframe tbody tr th:only-of-type {\n",
       "        vertical-align: middle;\n",
       "    }\n",
       "\n",
       "    .dataframe tbody tr th {\n",
       "        vertical-align: top;\n",
       "    }\n",
       "\n",
       "    .dataframe thead th {\n",
       "        text-align: right;\n",
       "    }\n",
       "</style>\n",
       "<table border=\"1\" class=\"dataframe\">\n",
       "  <thead>\n",
       "    <tr style=\"text-align: right;\">\n",
       "      <th></th>\n",
       "      <th>cd_model</th>\n",
       "      <th>nm_model</th>\n",
       "      <th>cd_brand</th>\n",
       "    </tr>\n",
       "  </thead>\n",
       "  <tbody>\n",
       "    <tr>\n",
       "      <th>0</th>\n",
       "      <td>4086</td>\n",
       "      <td>캐스퍼</td>\n",
       "      <td>303</td>\n",
       "    </tr>\n",
       "    <tr>\n",
       "      <th>1</th>\n",
       "      <td>4671</td>\n",
       "      <td>더 뉴 캐스퍼</td>\n",
       "      <td>303</td>\n",
       "    </tr>\n",
       "    <tr>\n",
       "      <th>2</th>\n",
       "      <td>4653</td>\n",
       "      <td>캐스퍼 일렉트릭</td>\n",
       "      <td>303</td>\n",
       "    </tr>\n",
       "    <tr>\n",
       "      <th>3</th>\n",
       "      <td>4455</td>\n",
       "      <td>더 뉴 아반떼</td>\n",
       "      <td>303</td>\n",
       "    </tr>\n",
       "    <tr>\n",
       "      <th>4</th>\n",
       "      <td>4564</td>\n",
       "      <td>더 뉴 아반떼 N</td>\n",
       "      <td>303</td>\n",
       "    </tr>\n",
       "    <tr>\n",
       "      <th>...</th>\n",
       "      <td>...</td>\n",
       "      <td>...</td>\n",
       "      <td>...</td>\n",
       "    </tr>\n",
       "    <tr>\n",
       "      <th>423</th>\n",
       "      <td>4583</td>\n",
       "      <td>Rich6 EV</td>\n",
       "      <td>617</td>\n",
       "    </tr>\n",
       "    <tr>\n",
       "      <th>424</th>\n",
       "      <td>3487</td>\n",
       "      <td>C31</td>\n",
       "      <td>617</td>\n",
       "    </tr>\n",
       "    <tr>\n",
       "      <th>425</th>\n",
       "      <td>3488</td>\n",
       "      <td>C32</td>\n",
       "      <td>617</td>\n",
       "    </tr>\n",
       "    <tr>\n",
       "      <th>426</th>\n",
       "      <td>4453</td>\n",
       "      <td>1500 Revolution BEV Concept</td>\n",
       "      <td>565</td>\n",
       "    </tr>\n",
       "    <tr>\n",
       "      <th>427</th>\n",
       "      <td>4450</td>\n",
       "      <td>Airflow Concept</td>\n",
       "      <td>583</td>\n",
       "    </tr>\n",
       "  </tbody>\n",
       "</table>\n",
       "<p>428 rows × 3 columns</p>\n",
       "</div>"
      ],
      "text/plain": [
       "    cd_model                     nm_model cd_brand\n",
       "0       4086                          캐스퍼      303\n",
       "1       4671                      더 뉴 캐스퍼      303\n",
       "2       4653                     캐스퍼 일렉트릭      303\n",
       "3       4455                      더 뉴 아반떼      303\n",
       "4       4564                    더 뉴 아반떼 N      303\n",
       "..       ...                          ...      ...\n",
       "423     4583                     Rich6 EV      617\n",
       "424     3487                          C31      617\n",
       "425     3488                          C32      617\n",
       "426     4453  1500 Revolution BEV Concept      565\n",
       "427     4450              Airflow Concept      583\n",
       "\n",
       "[428 rows x 3 columns]"
      ]
     },
     "execution_count": 318,
     "metadata": {},
     "output_type": "execute_result"
    }
   ],
   "source": [
    "df_model"
   ]
  },
  {
   "cell_type": "markdown",
   "id": "1f959965-22f7-4b00-b24f-1151ae27053b",
   "metadata": {},
   "source": [
    "### DB에 테이블로 저장"
   ]
  },
  {
   "cell_type": "code",
   "execution_count": 320,
   "id": "67613f38-57fe-4b06-8643-5344579cd86d",
   "metadata": {},
   "outputs": [
    {
     "data": {
      "text/plain": [
       "428"
      ]
     },
     "execution_count": 320,
     "metadata": {},
     "output_type": "execute_result"
    }
   ],
   "source": [
    "# DB 연결\n",
    "import sqlalchemy\n",
    "from urllib import parse\n",
    "user='team2'\n",
    "password='Encore_team2@'\n",
    "password = parse.quote_plus(password)\n",
    "host='192.168.0.95'\n",
    "#host='222.112.208.67'\n",
    "port=3306\n",
    "database='team2'\n",
    "engine=sqlalchemy.create_engine(f'mysql://{user}:{password}@{host}:{port}/{database}')\n",
    "\n",
    "df_brand.to_sql('brand_cd', if_exists='replace', con=engine, index=False)\n",
    "df_model.to_sql('model_cd', if_exists='replace', con=engine, index=False)"
   ]
  },
  {
   "cell_type": "code",
   "execution_count": null,
   "id": "90c94f2c-2e12-4edd-bcfc-5479c8ee589b",
   "metadata": {},
   "outputs": [],
   "source": []
  }
 ],
 "metadata": {
  "kernelspec": {
   "display_name": "Python 3 (ipykernel)",
   "language": "python",
   "name": "python3"
  },
  "language_info": {
   "codemirror_mode": {
    "name": "ipython",
    "version": 3
   },
   "file_extension": ".py",
   "mimetype": "text/x-python",
   "name": "python",
   "nbconvert_exporter": "python",
   "pygments_lexer": "ipython3",
   "version": "3.10.15"
  }
 },
 "nbformat": 4,
 "nbformat_minor": 5
}
