{
 "cells": [
  {
   "cell_type": "code",
   "execution_count": null,
   "metadata": {},
   "outputs": [],
   "source": [
    "from selenium import webdriver\n",
    "from selenium.webdriver.chrome.service import Service\n",
    "from selenium.webdriver.common.by import By\n",
    "from webdriver_manager.chrome import ChromeDriverManager\n",
    "import os\n",
    "import time\n",
    "\n",
    "# 다운로드 경로 설정\n",
    "download_path = \"./sigungu-data\"  # 원하는 다운로드 경로로 수정\n",
    "\n",
    "if not os.path.exists(download_path):\n",
    "    os.mkdir(download_path)"
   ]
  },
  {
   "cell_type": "code",
   "execution_count": null,
   "metadata": {},
   "outputs": [],
   "source": [
    "# ChromeOptions 설정\n",
    "chrome_options = webdriver.ChromeOptions()\n",
    "chrome_options.add_argument(\"--headless\")  # 헤드리스 모드로 실행 (UI 없이 실행)\n",
    "chrome_options.add_argument(\"--disable-gpu\")  # GPU 사용 비활성화\n",
    "chrome_options.add_argument(\"--no-sandbox\")\n",
    "\n",
    "# 다운로드 경로 설정\n",
    "prefs = {\n",
    "    \"download.default_directory\": download_path,  # 다운로드 폴더 지정\n",
    "    \"download.prompt_for_download\": False,  # 다운로드 시 자동으로 대화상자 표시하지 않음\n",
    "    \"download.directory_upgrade\": True,\n",
    "    \"safebrowsing.enabled\": True  # 안전한 다운로드 허용\n",
    "}\n",
    "chrome_options.add_experimental_option(\"prefs\", prefs)\n",
    "\n",
    "driver = webdriver.Chrome(\n",
    "    service=Service(ChromeDriverManager().install()), \n",
    "    options=chrome_options\n",
    ")\n",
    "\n",
    "driver.get(\"https://stat.molit.go.kr/portal/cate/statMetaView.do?hRsId=58&hFormId=&hSelectId=&sStyleNum=&sStart=&sEnd=&hPoint=&hAppr=&oFileName=&rFileName=&midpath=\")\n",
    "print(driver.title)\n",
    "\n",
    "time.sleep(5)\n",
    "\n",
    "driver.execute_script(\"window.scrollBy(0, 700);\")\n",
    "\n",
    "time.sleep(5)\n",
    "\n",
    "for i in range(21, 46):\n",
    "    driver.find_element(\n",
    "        By.CSS_SELECTOR, f'#main > div > div.contents-wrap > div.contents > div > div:nth-child(2) > div.mu-accordion-body > div > dl > dd:nth-child(2) > ul > li:nth-child({i}) > a > span'\n",
    "    ).click()\n",
    "    time.sleep(1)\n",
    "\n",
    "driver.quit()"
   ]
  }
 ],
 "metadata": {
  "kernelspec": {
   "display_name": "Python 3",
   "language": "python",
   "name": "python3"
  },
  "language_info": {
   "codemirror_mode": {
    "name": "ipython",
    "version": 3
   },
   "file_extension": ".py",
   "mimetype": "text/x-python",
   "name": "python",
   "nbconvert_exporter": "python",
   "pygments_lexer": "ipython3",
   "version": "3.11.0"
  }
 },
 "nbformat": 4,
 "nbformat_minor": 2
}
